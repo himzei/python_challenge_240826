{
 "cells": [
  {
   "cell_type": "code",
   "execution_count": 14,
   "metadata": {},
   "outputs": [
    {
     "data": {
      "text/plain": [
       "'멕시코와 한국 사이의 직선 거리는 약 13,500km 정도입니다. 하지만 실제로 이동하는 경우에는 비행기나 배 등을 이용하여 이동해야 하므로 실제 거리는 이보다 더 길어질 수 있습니다.'"
      ]
     },
     "execution_count": 14,
     "metadata": {},
     "output_type": "execute_result"
    }
   ],
   "source": [
    "from langchain.chat_models import ChatOpenAI\n",
    "from langchain.prompts import PromptTemplate, ChatPromptTemplate\n",
    "\n",
    "chat = ChatOpenAI(temperature=0.1) \n",
    "\n",
    "template = PromptTemplate.from_template(\n",
    "    \"{country_a}와 {country_b}사이의 거리는 얼마나 되니?\"\n",
    ")\n",
    "\n",
    "prompt = template.format(country_a=\"멕시코\", country_b=\"한국\")\n",
    "\n",
    "chat.predict(prompt)"
   ]
  },
  {
   "cell_type": "code",
   "execution_count": 16,
   "metadata": {},
   "outputs": [
    {
     "data": {
      "text/plain": [
       "AIMessage(content='안녕하세요! 제 이름은 AI 지리학자입니다. 한국과 일본 사이의 거리는 대략 1,000km 정도입니다. 두 나라 사이에는 동해가 위치해 있어서 해상 거리로 측정됩니다. 더 궁금한 점이 있으시면 언제든지 물어보세요!')"
      ]
     },
     "execution_count": 16,
     "metadata": {},
     "output_type": "execute_result"
    }
   ],
   "source": [
    "template = ChatPromptTemplate.from_messages([\n",
    "    (\"system\", \"당신은 전문 지리학자이다. 오직 {language}로만 대화를 한다\"),\n",
    "    (\"ai\", \"안녕, {name}\"), \n",
    "    (\"human\", \"{country_a}와 {country_b}사이의 거리는 얼마나 되니? 그리고 당신의 이름은 무엇이니?\")  \n",
    "])\n",
    "\n",
    "prompt = template.format_messages(\n",
    "    language=\"korean\", \n",
    "    name=\"조현일\", \n",
    "    country_a=\"한국\", \n",
    "    country_b=\"일본\"\n",
    ")\n",
    "\n",
    "chat.predict_messages(prompt)"
   ]
  },
  {
   "cell_type": "code",
   "execution_count": 20,
   "metadata": {},
   "outputs": [
    {
     "data": {
      "text/plain": [
       "['Hello', 'how', 'are', 'you']"
      ]
     },
     "execution_count": 20,
     "metadata": {},
     "output_type": "execute_result"
    }
   ],
   "source": [
    "from langchain.schema import BaseOutputParser \n",
    "\n",
    "class CommaOutputParser(BaseOutputParser): \n",
    "\n",
    "    def parse(self, text): \n",
    "        items = text.strip().split(\",\")\n",
    "        return list(map(str.strip, items))\n",
    "    \n",
    "\n",
    "p = CommaOutputParser()\n",
    "p.parse(\"Hello, how,are,you\")"
   ]
  },
  {
   "cell_type": "code",
   "execution_count": 27,
   "metadata": {},
   "outputs": [],
   "source": [
    "template = ChatPromptTemplate.from_messages([\n",
    "    (\"system\", \"당신은 list생성기계입니다. 입력받은 질문들은 모두 콤마로 구분된 list로 답해야 한다 최대 {max_items}로 답해야 한다.\"), \n",
    "    (\"human\", \"{question}\")\n",
    "])\n"
   ]
  },
  {
   "cell_type": "code",
   "execution_count": 28,
   "metadata": {},
   "outputs": [
    {
     "data": {
      "text/plain": [
       "['1. 토요타 카롤라\\n2. 포드 픽업 트럭\\n3. 혼다 어코드\\n4. BMW 3시리즈\\n5. 벤츠 E클래스']"
      ]
     },
     "execution_count": 28,
     "metadata": {},
     "output_type": "execute_result"
    }
   ],
   "source": [
    "chain_one = template | chat | CommaOutputParser() \n",
    "\n",
    "\n",
    "chain.invoke({\n",
    "    \"max_items\": 5, \n",
    "    \"question\" : \"세계적인 자동차는 무엇인가?\"\n",
    "})"
   ]
  },
  {
   "cell_type": "code",
   "execution_count": 34,
   "metadata": {},
   "outputs": [
    {
     "name": "stdout",
     "output_type": "stream",
     "text": [
      "AI: \n",
      "        I know this:\n",
      "        Capital: Seoul\n",
      "        Language: Korean\n",
      "        Food: Kimchi and Bibimbap\n",
      "        Currency: South Korean Won"
     ]
    },
    {
     "data": {
      "text/plain": [
       "AIMessageChunk(content='AI: \\n        I know this:\\n        Capital: Seoul\\n        Language: Korean\\n        Food: Kimchi and Bibimbap\\n        Currency: South Korean Won')"
      ]
     },
     "execution_count": 34,
     "metadata": {},
     "output_type": "execute_result"
    }
   ],
   "source": [
    "from langchain.chat_models import ChatOpenAI\n",
    "from langchain.prompts.few_shot import FewShotChatMessagePromptTemplate\n",
    "from langchain.callbacks import StreamingStdOutCallbackHandler \n",
    "from langchain.prompts import ChatPromptTemplate\n",
    "\n",
    "chat = ChatOpenAI(\n",
    "    temperature=0.1, \n",
    "    streaming=True, \n",
    "    callbacks=[\n",
    "        StreamingStdOutCallbackHandler()\n",
    "    ]\n",
    ")\n",
    "\n",
    "examples = [\n",
    "    {\n",
    "        \"question\": \"France\",\n",
    "        \"answer\": \"\"\"\n",
    "        Here is what I know:\n",
    "        Capital: Paris\n",
    "        Language: French\n",
    "        Food: Wine and Cheese\n",
    "        Currency: Euro\n",
    "        \"\"\",\n",
    "    },\n",
    "    {\n",
    "        \"question\": \"Italy\",\n",
    "        \"answer\": \"\"\"\n",
    "        I know this:\n",
    "        Capital: Rome\n",
    "        Language: Italian\n",
    "        Food: Pizza and Pasta\n",
    "        Currency: Euro\n",
    "        \"\"\",\n",
    "    },\n",
    "    {\n",
    "        \"question\": \"Greece\",\n",
    "        \"answer\": \"\"\"\n",
    "        I know this:\n",
    "        Capital: Athens\n",
    "        Language: Greek\n",
    "        Food: Souvlaki and Feta Cheese\n",
    "        Currency: Euro\n",
    "        \"\"\",\n",
    "    },\n",
    "]\n",
    "\n",
    "\n",
    "example_prompt = ChatPromptTemplate.from_messages([\n",
    "    (\"human\", \"What do you know about {question}?\"), \n",
    "    (\"ai\", \"{answer}\")\n",
    "])\n",
    "\n",
    "example_prompt = FewShotChatMessagePromptTemplate(\n",
    "    example_prompt=example_prompt, \n",
    "    examples=examples\n",
    ")\n",
    "\n",
    "final_prompt = ChatPromptTemplate.from_messages([\n",
    "    (\"system\", \"You are a geography expert\"), \n",
    "    example_prompt, \n",
    "    (\"human\", \"What do you know about {country}?\")\n",
    "])\n",
    "\n",
    "chain = final_prompt | chat \n",
    "\n",
    "chain.invoke({\n",
    "    \"country\": \"Korea\", \n",
    "})"
   ]
  },
  {
   "cell_type": "code",
   "execution_count": 1,
   "metadata": {},
   "outputs": [
    {
     "name": "stdout",
     "output_type": "stream",
     "text": [
      "France is a country located in Western Europe. It is known for its rich history, culture, and cuisine. The capital city is Paris, which is famous for landmarks such as the Eiffel Tower, Louvre Museum, and Notre-Dame Cathedral.\n",
      "\n",
      "France is the largest country in the European Union by land area and the third-largest in Europe overall. It has a population of around 67 million people. The official language is French, and the currency is the Euro.\n",
      "\n",
      "France is a popular tourist destination, attracting millions of visitors each year to its beautiful cities, picturesque countryside, and world-renowned wine regions. The country is also known for its fashion, art, and literature, with famous figures such as Coco Chanel, Claude Monet, and Victor Hugo hailing from France.\n",
      "\n",
      "France has a long history of political and cultural influence, with a legacy that includes the French Revolution, the Enlightenment, and the development of democracy and human rights. Today, France is a member of the United Nations, NATO, and the European Union, among other international organizations."
     ]
    },
    {
     "data": {
      "text/plain": [
       "'France is a country located in Western Europe. It is known for its rich history, culture, and cuisine. The capital city is Paris, which is famous for landmarks such as the Eiffel Tower, Louvre Museum, and Notre-Dame Cathedral.\\n\\nFrance is the largest country in the European Union by land area and the third-largest in Europe overall. It has a population of around 67 million people. The official language is French, and the currency is the Euro.\\n\\nFrance is a popular tourist destination, attracting millions of visitors each year to its beautiful cities, picturesque countryside, and world-renowned wine regions. The country is also known for its fashion, art, and literature, with famous figures such as Coco Chanel, Claude Monet, and Victor Hugo hailing from France.\\n\\nFrance has a long history of political and cultural influence, with a legacy that includes the French Revolution, the Enlightenment, and the development of democracy and human rights. Today, France is a member of the United Nations, NATO, and the European Union, among other international organizations.'"
      ]
     },
     "execution_count": 1,
     "metadata": {},
     "output_type": "execute_result"
    }
   ],
   "source": [
    "from langchain.chat_models import ChatOpenAI \n",
    "from langchain.prompts.few_shot import FewShotPromptTemplate \n",
    "from langchain.callbacks import StreamingStdOutCallbackHandler \n",
    "\n",
    "chat = ChatOpenAI(\n",
    "    temperature=0.1, \n",
    "    streaming=True, \n",
    "    callbacks=[\n",
    "        StreamingStdOutCallbackHandler()\n",
    "    ]\n",
    ")\n",
    "\n",
    "examples = [\n",
    "    {\n",
    "        \"question\": \"France\",\n",
    "        \"answer\": \"\"\"\n",
    "        Here is what I know:\n",
    "        Capital: Paris\n",
    "        Language: French\n",
    "        Food: Wine and Cheese\n",
    "        Currency: Euro\n",
    "        \"\"\",\n",
    "    },\n",
    "    {\n",
    "        \"question\": \"Italy\",\n",
    "        \"answer\": \"\"\"\n",
    "        I know this:\n",
    "        Capital: Rome\n",
    "        Language: Italian\n",
    "        Food: Pizza and Pasta\n",
    "        Currency: Euro\n",
    "        \"\"\",\n",
    "    },\n",
    "    {\n",
    "        \"question\": \"Greece\",\n",
    "        \"answer\": \"\"\"\n",
    "        I know this:\n",
    "        Capital: Athens\n",
    "        Language: Greek\n",
    "        Food: Souvlaki and Feta Cheese\n",
    "        Currency: Euro\n",
    "        \"\"\",\n",
    "    },\n",
    "]\n",
    "\n",
    "\n",
    "example_template = \"\"\"\n",
    "    Human: {question}, \n",
    "    AI: {answer}\n",
    "\"\"\"\n",
    "\n",
    "example_prompt = PromptTemplate.from_template(example_template)"
   ]
  },
  {
   "cell_type": "code",
   "execution_count": null,
   "metadata": {},
   "outputs": [],
   "source": []
  }
 ],
 "metadata": {
  "kernelspec": {
   "display_name": "env",
   "language": "python",
   "name": "python3"
  },
  "language_info": {
   "codemirror_mode": {
    "name": "ipython",
    "version": 3
   },
   "file_extension": ".py",
   "mimetype": "text/x-python",
   "name": "python",
   "nbconvert_exporter": "python",
   "pygments_lexer": "ipython3",
   "version": "3.11.7"
  }
 },
 "nbformat": 4,
 "nbformat_minor": 2
}
